{
 "cells": [
  {
   "cell_type": "markdown",
   "metadata": {},
   "source": [
    "# *PyQuiver*\n",
    "This is an IPython Notebook interface for the *PyQuiver* package. The code below will guide you through using *PyQuiver* through a native Python interface. The same steps could be reproduced in the Python interpreter or in a `.py` file."
   ]
  },
  {
   "cell_type": "code",
   "execution_count": 1,
   "metadata": {
    "collapsed": false
   },
   "outputs": [
    {
     "name": "stdout",
     "output_type": "stream",
     "text": [
      "Read atomic weight data for 32 elements.\n"
     ]
    }
   ],
   "source": [
    "# import the necessary package elements\n",
    "import numpy as np\n",
    "import sys\n",
    "sys.path.append(\"../src\")\n",
    "from kie import KIE_Calculation"
   ]
  },
  {
   "cell_type": "markdown",
   "metadata": {},
   "source": [
    "## A Simple Calculation\n",
    "\n",
    "We can reproduce the command-line interface by creating a KIE_Calculation object:"
   ]
  },
  {
   "cell_type": "code",
   "execution_count": 2,
   "metadata": {
    "collapsed": false
   },
   "outputs": [
    {
     "name": "stdout",
     "output_type": "stream",
     "text": [
      "\n",
      "Reading configuration from ../tutorial/gaussian/claisen_demo.config\n",
      "Reading data from ../tutorial/gaussian/claisen_gs.out... with style g09\n",
      "Molecule is not linear.\n",
      "Reading data from ../tutorial/gaussian/claisen_ts.out... with style g09\n",
      "Molecule is not linear.\n",
      "Config file: ../tutorial/gaussian/claisen_demo.config\n",
      "Temperature: 393.0 K\n",
      "Scaling: 0.961\n",
      "Reference Isotopologue: C5\n",
      "Imag threshold (cm-1): 50\n",
      "   Isotopologue         C5, replacement  1: replace gs atom  5  and ts atom  5  with 13C\n",
      "   Isotopologue         C1, replacement  1: replace gs atom  1  and ts atom  1  with 13C\n",
      "   Isotopologue         C2, replacement  1: replace gs atom  2  and ts atom  2  with 13C\n",
      "   Isotopologue         C4, replacement  1: replace gs atom  4  and ts atom  4  with 13C\n",
      "   Isotopologue         C6, replacement  1: replace gs atom  6  and ts atom  6  with 13C\n",
      "   Isotopologue        H/D, replacement  1: replace gs atom  7  and ts atom  7  with  2D\n",
      "   Isotopologue        H/D, replacement  2: replace gs atom  8  and ts atom  8  with  2D\n",
      "   Isotopologue         O3, replacement  1: replace gs atom  3  and ts atom  3  with 17O\n"
     ]
    }
   ],
   "source": [
    "claisen_calculation = KIE_Calculation(\"../tutorial/gaussian/claisen_demo.config\", \"../tutorial/gaussian/claisen_gs.out\", \"../tutorial/gaussian/claisen_ts.out\", style=\"g09\")"
   ]
  },
  {
   "cell_type": "markdown",
   "metadata": {},
   "source": [
    "To print the KIEs:"
   ]
  },
  {
   "cell_type": "code",
   "execution_count": 3,
   "metadata": {
    "collapsed": false
   },
   "outputs": [
    {
     "name": "stdout",
     "output_type": "stream",
     "text": [
      "The claisen_calculation object:\n",
      "\n",
      "=== PyQuiver Analysis ===\n",
      "Isotopologue                                              uncorrected      Wigner     inverted parabola\n",
      "                                                              KIE           KIE              KIE\n",
      "Isotopologue         C1                                      1.0108        1.0125          1.0128      \n",
      "Isotopologue         C2                                      1.0000        1.0000          1.0000      \n",
      "Isotopologue         O3                                      1.0169        1.0184          1.0187      \n",
      "Isotopologue         C4                                      1.0278        1.0305          1.0310      \n",
      "Isotopologue         C6                                      1.0129        1.0146          1.0149      \n",
      "Isotopologue        H/D                                      0.9530        0.9545          0.9547      \n",
      "\n",
      "KIEs referenced to isotopologue C5, whose absolute KIEs are:\n",
      "Isotopologue         C5                                      1.0019        1.0019          1.0019      \n"
     ]
    }
   ],
   "source": [
    "print(\"The claisen_calculation object:\")\n",
    "print(claisen_calculation)"
   ]
  },
  {
   "cell_type": "markdown",
   "metadata": {},
   "source": [
    "We can also access the KIEs directly via the `KIE` dictionary belonging to our `KIE_Calculation`.  This can be useful for automating KIE analyses over a large number of files. This functionality is further developed in the `autoquiver` routine (see below)."
   ]
  },
  {
   "cell_type": "code",
   "execution_count": 4,
   "metadata": {
    "collapsed": false
   },
   "outputs": [
    {
     "name": "stdout",
     "output_type": "stream",
     "text": [
      "Iterating through the KIEs dictionary:\n",
      "Isotopologue         C1                                      1.0108        1.0125          1.0128      \n",
      "<class 'kie.KIE'>\n",
      "C1\n",
      "[1.01083044 1.0124856  1.01277832]\n"
     ]
    }
   ],
   "source": [
    "print(\"Iterating through the KIEs dictionary:\")\n",
    "for name,kie_object in claisen_calculation.KIES.items():\n",
    "    # pretty print the underlying KIE object:\n",
    "    print(kie_object)\n",
    "    # or pull the name and value directly:\n",
    "    print(type(kie_object))\n",
    "    print(kie_object.name)\n",
    "    print(kie_object.value)\n",
    "    break"
   ]
  },
  {
   "cell_type": "markdown",
   "metadata": {},
   "source": [
    "## `System` objects\n",
    "\n",
    "We didn't have to specify file paths as the targets of our `KIE_Calculation` constructor. Instead, we can work directly with `System` objects, which contain the geometry and Hessian as fields. Below, we load the Claisen ground state and transition state and print the position of the first atom in the ground state and print the first row of the transition state Hessian."
   ]
  },
  {
   "cell_type": "code",
   "execution_count": 5,
   "metadata": {
    "collapsed": false
   },
   "outputs": [
    {
     "name": "stdout",
     "output_type": "stream",
     "text": [
      "Reading data from ../tutorial/gaussian/claisen_gs.out... with style g09\n",
      "Molecule is not linear.\n",
      "Reading data from ../tutorial/gaussian/claisen_ts.out... with style g09\n",
      "Molecule is not linear.\n",
      "Position of atom 0 in the ground state:\n",
      "[ 4.77979210e+00  6.82814755e-01 -3.77945233e-05]\n",
      "First row of the Carteisan transition state Hessian:\n",
      "[ 2.5705678e-01 -2.3007491e-01 -1.6192179e-01 -7.6561780e-02\n",
      "  8.4893130e-02  4.6126500e-03  2.1299140e-02  2.0270870e-02\n",
      " -9.6391200e-03 -2.2122500e-02 -1.9531000e-02  2.2995300e-03\n",
      " -2.5246920e-02  3.7391980e-02  3.6582000e-04  4.6899040e-02\n",
      " -4.4453100e-03  2.2383900e-03 -1.5100128e-01  1.2099792e-01\n",
      "  8.6293350e-02 -4.7478530e-02  3.2266700e-03  7.3894740e-02\n",
      "  6.5812100e-03 -8.0738400e-03  5.6873800e-03  2.4898000e-04\n",
      " -2.9655000e-04  2.0240000e-04  1.2257700e-03  3.9790000e-04\n",
      "  4.2782000e-04  7.7369000e-04  2.6580000e-05  1.3262000e-04\n",
      " -4.6166200e-03 -1.5256600e-03 -2.7586400e-03 -7.0569600e-03\n",
      " -3.2577800e-03 -1.8351500e-03]\n"
     ]
    }
   ],
   "source": [
    "from quiver import System\n",
    "\n",
    "gs = System(\"../tutorial/gaussian/claisen_gs.out\")\n",
    "ts = System(\"../tutorial/gaussian/claisen_ts.out\")\n",
    "print(\"Position of atom 0 in the ground state:\")\n",
    "print(gs.positions[0])\n",
    "print(\"First row of the Carteisan transition state Hessian:\")\n",
    "print(ts.hessian[0])"
   ]
  },
  {
   "cell_type": "markdown",
   "metadata": {},
   "source": [
    "### Running calculations with `System` objects\n",
    "\n",
    "To run a KIE calculation with two `System` objects, we simply pass them into the relevant fields of a `KIE_Calculation` object:"
   ]
  },
  {
   "cell_type": "code",
   "execution_count": 6,
   "metadata": {
    "collapsed": false
   },
   "outputs": [
    {
     "name": "stdout",
     "output_type": "stream",
     "text": [
      "\n",
      "Reading configuration from ../tutorial/gaussian/claisen_demo.config\n",
      "Config file: ../tutorial/gaussian/claisen_demo.config\n",
      "Temperature: 393.0 K\n",
      "Scaling: 0.961\n",
      "Reference Isotopologue: C5\n",
      "Imag threshold (cm-1): 50\n",
      "   Isotopologue         C5, replacement  1: replace gs atom  5  and ts atom  5  with 13C\n",
      "   Isotopologue         C1, replacement  1: replace gs atom  1  and ts atom  1  with 13C\n",
      "   Isotopologue         C2, replacement  1: replace gs atom  2  and ts atom  2  with 13C\n",
      "   Isotopologue         C4, replacement  1: replace gs atom  4  and ts atom  4  with 13C\n",
      "   Isotopologue         C6, replacement  1: replace gs atom  6  and ts atom  6  with 13C\n",
      "   Isotopologue        H/D, replacement  1: replace gs atom  7  and ts atom  7  with  2D\n",
      "   Isotopologue        H/D, replacement  2: replace gs atom  8  and ts atom  8  with  2D\n",
      "   Isotopologue         O3, replacement  1: replace gs atom  3  and ts atom  3  with 17O\n",
      "\n",
      "=== PyQuiver Analysis ===\n",
      "Isotopologue                                              uncorrected      Wigner     inverted parabola\n",
      "                                                              KIE           KIE              KIE\n",
      "Isotopologue         C1                                      1.0108        1.0125          1.0128      \n",
      "Isotopologue         C2                                      1.0000        1.0000          1.0000      \n",
      "Isotopologue         O3                                      1.0169        1.0184          1.0187      \n",
      "Isotopologue         C4                                      1.0278        1.0305          1.0310      \n",
      "Isotopologue         C6                                      1.0129        1.0146          1.0149      \n",
      "Isotopologue        H/D                                      0.9530        0.9545          0.9547      \n",
      "\n",
      "KIEs referenced to isotopologue C5, whose absolute KIEs are:\n",
      "Isotopologue         C5                                      1.0019        1.0019          1.0019      \n"
     ]
    }
   ],
   "source": [
    "claisen_calculation2 = KIE_Calculation(\"../tutorial/gaussian/claisen_demo.config\", gs, ts)\n",
    "print(claisen_calculation2)"
   ]
  },
  {
   "cell_type": "markdown",
   "metadata": {},
   "source": [
    "## Building `Isotopologue`s\n",
    "Once we have access to the underlying `System` objects, it is easy to make substituted `Isotopologue`s and perform frequency calculations ourselves. To make an `Isotopologue` we need to provide a name, a corresponding `System`, and a list of masses - one for each atom in the `System`.\n",
    "\n",
    "Let's build the default light ground state `Isotopologue`:"
   ]
  },
  {
   "cell_type": "code",
   "execution_count": 7,
   "metadata": {
    "collapsed": false
   },
   "outputs": [
    {
     "name": "stdout",
     "output_type": "stream",
     "text": [
      "Isotopologue: the light ground state\n",
      " masses: [12.0, 12.0, 15.9949146, 12.0, 12.0, 12.0, 1.007825, 1.007825, 1.007825, 1.007825, 1.007825, 1.007825, 1.007825, 1.007825]\n"
     ]
    }
   ],
   "source": [
    "from quiver import Isotopologue\n",
    "from constants import DEFAULT_MASSES\n",
    "\n",
    "# we build the default masses by using the DEFAULT_MASSES dictionary which maps from atomic numbers to masses\n",
    "# default masses in DEFAULT_MASSES are the average atomic weight of each element\n",
    "gs_masses = [DEFAULT_MASSES[z] for z in gs.atomic_numbers]\n",
    "\n",
    "gs_light = Isotopologue(\"the light ground state\", gs, gs_masses)\n",
    "print(gs_light)"
   ]
  },
  {
   "cell_type": "markdown",
   "metadata": {},
   "source": [
    "### `Isotopologue`s with substitutions\n",
    "Now that we know how to make `Isotopologue`s it's very easy to specify isotopic substitutions. Let's put the mysterious isotope carbon-5000 at atom 4:"
   ]
  },
  {
   "cell_type": "code",
   "execution_count": 8,
   "metadata": {
    "collapsed": false
   },
   "outputs": [],
   "source": [
    "# make a copy of gs_masses\n",
    "sub_masses = list(gs_masses)\n",
    "# index 3 corresponds to atom number 4\n",
    "sub_masses[3] = 5000.0\n",
    "\n",
    "gs_heavy = Isotopologue(\"the super heavy ground state\", gs, sub_masses)"
   ]
  },
  {
   "cell_type": "markdown",
   "metadata": {},
   "source": [
    "### Calculating Reduced Isotopic Partition Function Ratios\n",
    "\n",
    "KIEs are essentially ratios of reduced isotopic partition functions (RPFRs).  To calculate these, we use the function `calculate_rpfr` from the `kie` module. This function takes a tuple of the form `(light, heavy)`, a frequency threshold, a scaling factor, and a temperature. (All of these are discussed in detail in the README.)\n",
    "\n",
    "`calculate_rpfr` returns four values in a tuple: the first value is the RPFR, the second value is a ratio of large imaginary frequencies (if present), the third value is the frequencies in the light isotopomer, and the fourth value is the frequencies in the heavy isotopomer.\n",
    "\n",
    "To print the individual contributions to the RPFR, set `quiver.DEBUG = True` in `quiver.py` and restart the kernel. "
   ]
  },
  {
   "cell_type": "code",
   "execution_count": 9,
   "metadata": {
    "collapsed": false
   },
   "outputs": [
    {
     "name": "stdout",
     "output_type": "stream",
     "text": [
      "11.208123665562292\n",
      "[  61.631434    131.33940975  149.25478244  235.05384691  253.61000919\n",
      "  388.68321807  538.23713827  573.1098416   689.54514791  693.15891096\n",
      "  713.75792653  824.87106694  863.15186782  950.01325243 1000.01764911\n",
      " 1000.40305289 1034.40340406 1075.63192671 1229.08835092 1266.54977859\n",
      " 1298.58236833 1332.35577789 1376.57176191 1456.12070386 1466.42176654\n",
      " 1501.64974966 1712.50915119 1738.46586076 2871.66940343 2922.94354739\n",
      " 3159.73242676 3181.30165023 3195.17469476 3209.76123403 3263.87810693\n",
      " 3278.47225297]\n"
     ]
    }
   ],
   "source": [
    "from kie import calculate_rpfr\n",
    "gs_rpfr, gs_imag_ratio, gs_light_freqs, gs_heavy_freqs = calculate_rpfr((gs_light, gs_heavy), 50.0, 1.0, 273)\n",
    "print(gs_rpfr)\n",
    "print(gs_light_freqs)"
   ]
  },
  {
   "cell_type": "markdown",
   "metadata": {},
   "source": [
    "## Calculating KIEs from Isotopologues\n",
    "It's nice to be able to calculate RPFRs by hand, but there is also an object available to calculate KIEs automatically: the `KIE` class.\n",
    "\n",
    "We need to create a `KIE` object by passing it a pair of ground states (light and heavy) and a pair of transition states (light and heavy) as well as some temperature information.\n",
    "\n",
    "We will make the desired substitution at Carbon 4 in the transition state and use a `KIE` object to calculate the KIE."
   ]
  },
  {
   "cell_type": "code",
   "execution_count": 10,
   "metadata": {
    "collapsed": false
   },
   "outputs": [
    {
     "name": "stdout",
     "output_type": "stream",
     "text": [
      "Isotopologue: the light transition state\n",
      " masses: [12.0, 12.0, 15.9949146, 12.0, 12.0, 12.0, 1.007825, 1.007825, 1.007825, 1.007825, 1.007825, 1.007825, 1.007825, 1.007825]\n",
      "\n",
      "Isotopologue: the heavy transition state\n",
      " masses: [12.0, 12.0, 15.9949146, 5000.0, 12.0, 12.0, 1.007825, 1.007825, 1.007825, 1.007825, 1.007825, 1.007825, 1.007825, 1.007825]\n"
     ]
    }
   ],
   "source": [
    "ts_masses = [DEFAULT_MASSES[z] for z in gs.atomic_numbers]\n",
    "ts_light = Isotopologue(\"the light transition state\", ts, ts_masses)\n",
    "print(ts_light)\n",
    "print()\n",
    "ts_sub_masses = list(ts_masses)\n",
    "ts_sub_masses[3] = 5000.0\n",
    "ts_heavy = Isotopologue(\"the heavy transition state\", ts, ts_sub_masses)\n",
    "print(ts_heavy)\n",
    "\n",
    "gs_tuple = (gs_light, gs_heavy)\n",
    "ts_tuple = (ts_light, ts_heavy)\n",
    "\n",
    "from kie import KIE\n",
    "\n",
    "# we make a KIE object using the gs and ts tuples from above for a calculation at 273 degrees K, with a scaling factor of 1.0, and a frequency threshold of 50 cm^-1\n",
    "carbon5000_kie = KIE(\"Carbon 5000 at C4 KIE\", gs_tuple, ts_tuple, 273, 1.0, 50.0)"
   ]
  },
  {
   "cell_type": "markdown",
   "metadata": {},
   "source": [
    "### Displaying KIEs\n",
    "Now, just like before, we have access to a KIE object (earlier we pulled them from the KIES dictionary). These can be printed prettily or you can take the value directly. As expected, we have large normal isotope effects because we used a carbon-5000 nucleus!  (The three numbers correspond to the uncorrected, Wigner, and Bell KIEs.)"
   ]
  },
  {
   "cell_type": "code",
   "execution_count": 11,
   "metadata": {
    "collapsed": false
   },
   "outputs": [
    {
     "name": "stdout",
     "output_type": "stream",
     "text": [
      "Isotopologue Carbon 5000 at C4 KIE                                      2.1324        2.3449          2.4192      \n",
      "[2.13240475 2.34485535 2.41923705]\n"
     ]
    }
   ],
   "source": [
    "print(carbon5000_kie)\n",
    "print(carbon5000_kie.value)"
   ]
  },
  {
   "cell_type": "markdown",
   "metadata": {},
   "source": [
    "## *PyQuiver* with multiple files: `autoquiver.py`\n",
    "A common problem when computing KIEs is the need to screen a large number of levels of theory with numerous ground and transition state files. So far, we have only seen how to make a `KIE_Calculation` object that corresponds to a single configuration, ground state, and transition state.\n",
    "\n",
    "The `autoquiver` module implements functionality to perform screening over a large number of files. Its command line use is described in depth in the README. Here we will see how to leverage Python to have more sophisticated uses for `autoquiver`. Suppose we have the following files that we want to use as inputs to `PyQuiver`:\n",
    "\n",
    "```\n",
    "config.config\n",
    "\n",
    "ground_state1.out    ts-1.out\n",
    "gs1rotomer.out       tsrotomer1.out\n",
    "GROUNDSTATE2.out     transition_state2.out\n",
    "gs3.out              ts3.out\n",
    "```\n",
    "\n",
    "We want to run *PyQuiver* on pair of files above in the same row using the configuration file `config.config`. The command line functionality of `autoquiver` is great when the file names have a consistent pattern, but here it's not obvious how to generate the proper pairings or detect which files are ground or transition states."
   ]
  },
  {
   "cell_type": "markdown",
   "metadata": {},
   "source": [
    "### The Arguments\n",
    "The function `autoquiver` (which is the only object available in the `autoquiver` module) requires the following arguments:\n",
    "\n",
    "* `filepath`: this is the target directory.\n",
    "* `config_path`: the location of the configuration file to use for all *PyQuiver* calculations\n",
    "* `input_extension`: the file extension for ground and transition state files (default=`.out`)\n",
    "* `style`: the style of the ground and transition state files (default=`g09`)\n",
    "\n",
    "In the README, we discussed the command:\n",
    "\n",
    "```\n",
    "python src/autoquiver.py -e .output auto/ auto/substitutions.config gs ts -\n",
    "```\n",
    "\n",
    "The strings \"gs\" and \"ts\" were used to find ground and transition files. A ground state file needed to have \"gs\" as a substring and likewise for \"gs\" and transition state files. The character \"-\" was used as a field delimiter and \"gs\" and \"ts\" matched if all fields after the first were identical.\n",
    "\n",
    "That is some sensible default behaviour, but for more complex cases, we can provide the following functions:\n",
    "\n",
    "* `gs_p`: a function that takes a filename and returns a boolean value. `True` if the filename corresponds to a ground state and `False` if it does not.\n",
    "* `ts_p`: a function that takes a filename and returns a boolean value. `True` if the filename corresponds to a transition state and `False` if it does not.\n",
    "* `gs_ts_match_p`: a function that takes a ground state filename and a transition state filename and returns a boolean value. `True` if the ground state and transition state match and `Fase` if they do not.\n",
    "\n",
    "#### `gs_p` and `ts_p`\n",
    "For the previous example, we need to detect that all of the following are ground state files:\n",
    "\n",
    "```\n",
    "ground_state1.out\n",
    "gs1_rotomer.out\n",
    "GROUNDSTATE2.out\n",
    "gs3.out\n",
    "```\n",
    "\n",
    "We can accomplish this with the following Python function:"
   ]
  },
  {
   "cell_type": "code",
   "execution_count": 12,
   "metadata": {
    "collapsed": false
   },
   "outputs": [],
   "source": [
    "def gs_p(filename):\n",
    "    # convert to lowercase\n",
    "    filename = filename.lower()\n",
    "    # remove the _ character\n",
    "    filename = filename.replace(\"_\", \"\")\n",
    "    # replace groundstate with gs\n",
    "    filename = filename.replace(\"groundstate\", \"gs\")\n",
    "    # check if the modified filename begins with the string \"gs\"\n",
    "    if filename[:2] == \"gs\":\n",
    "        return True\n",
    "    else:\n",
    "        return False"
   ]
  },
  {
   "cell_type": "markdown",
   "metadata": {},
   "source": [
    "Let's test this on all the filenames in the example:"
   ]
  },
  {
   "cell_type": "code",
   "execution_count": 13,
   "metadata": {
    "collapsed": false
   },
   "outputs": [
    {
     "name": "stdout",
     "output_type": "stream",
     "text": [
      "Checking ground state matches:\n",
      "True\n",
      "True\n",
      "True\n",
      "True\n",
      "Checking transition state matches:\n",
      "False\n",
      "False\n",
      "False\n",
      "False\n"
     ]
    }
   ],
   "source": [
    "gs_filenames = [\"ground_state1.out\", \"gs1_rotomer.out\", \"GROUNDSTATE2.out\", \"gs3.out\"]\n",
    "ts_filenames = [\"ts-1.out\", \"tsrotomer1.out\", \"transition_state2.out\", \"ts3.out\"]\n",
    "\n",
    "print(\"Checking ground state matches:\")\n",
    "for n in gs_filenames:\n",
    "    print(gs_p(n))\n",
    "print(\"Checking transition state matches:\")\n",
    "for n in ts_filenames:\n",
    "    print(gs_p(n))"
   ]
  },
  {
   "cell_type": "markdown",
   "metadata": {},
   "source": [
    "Lo and behold! The function successfully separated the ground state and transition state files. We can similarly implement `ts_p`:"
   ]
  },
  {
   "cell_type": "code",
   "execution_count": 14,
   "metadata": {
    "collapsed": true
   },
   "outputs": [],
   "source": [
    "def ts_p(filename):\n",
    "    # convert to lowercase\n",
    "    filename = filename.lower()\n",
    "    # remove the _ character\n",
    "    filename = filename.replace(\"_\", \"\")\n",
    "    # replace groundstate with gs\n",
    "    filename = filename.replace(\"transitionstate\", \"ts\")\n",
    "    # check if the modified filename begins with the string \"gs\"\n",
    "    if filename[:2] == \"ts\":\n",
    "        return True\n",
    "    else:\n",
    "        return False"
   ]
  },
  {
   "cell_type": "markdown",
   "metadata": {},
   "source": [
    "#### `gs_ts_match_p`\n",
    "Now all we have to do is write a function `gs_ts_match_p` that can take two filenames (one ground state and one transition state) and detect if they are matches. There are numerous ways to accomplish this. We will use a basic regular expression to highlight a common method for writing these functions."
   ]
  },
  {
   "cell_type": "code",
   "execution_count": 15,
   "metadata": {
    "collapsed": false
   },
   "outputs": [
    {
     "name": "stdout",
     "output_type": "stream",
     "text": [
      "Match: ground_state1.out ts-1.out\n",
      "Match: ground_state1.out tsrotomer1.out\n",
      "Match: gs1_rotomer.out ts-1.out\n",
      "Match: gs1_rotomer.out tsrotomer1.out\n",
      "Match: GROUNDSTATE2.out transition_state2.out\n",
      "Match: gs3.out ts3.out\n"
     ]
    }
   ],
   "source": [
    "gs_filenames = [\"ground_state1.out\", \"gs1_rotomer.out\", \"GROUNDSTATE2.out\", \"gs3.out\"]\n",
    "ts_filenames = [\"ts-1.out\", \"tsrotomer1.out\", \"transition_state2.out\", \"ts3.out\"]\n",
    "\n",
    "import re\n",
    "def gs_ts_p(gs_name, ts_name):\n",
    "    # a regular expression that finds and extracts the first integer substring in a filename\n",
    "    gs_match  = re.search(\".*([0-9]+).*\", gs_name)\n",
    "    gs_number = gs_match.group(1)\n",
    "    \n",
    "    ts_match  = re.search(\".*([0-9]+).*\", ts_name)\n",
    "    ts_number = ts_match.group(1)\n",
    "    \n",
    "    if ts_number == gs_number:\n",
    "        return True\n",
    "    else:\n",
    "        return False\n",
    "    \n",
    "import itertools\n",
    "for gs_n, ts_n in itertools.product(gs_filenames, ts_filenames):\n",
    "    if gs_ts_p(gs_n, ts_n):\n",
    "        print(\"Match: {0} {1}\".format(gs_n, ts_n))"
   ]
  },
  {
   "cell_type": "code",
   "execution_count": 16,
   "metadata": {
    "collapsed": true
   },
   "outputs": [],
   "source": [
    "# missing example of how to actually use autoquiver"
   ]
  }
 ],
 "metadata": {
  "kernelspec": {
   "display_name": "python_3_7",
   "language": "python",
   "name": "python_3_7"
  },
  "language_info": {
   "codemirror_mode": {
    "name": "ipython",
    "version": 3
   },
   "file_extension": ".py",
   "mimetype": "text/x-python",
   "name": "python",
   "nbconvert_exporter": "python",
   "pygments_lexer": "ipython3",
   "version": "3.7.1"
  }
 },
 "nbformat": 4,
 "nbformat_minor": 2
}
