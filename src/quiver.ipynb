{
 "cells": [
  {
   "cell_type": "markdown",
   "metadata": {},
   "source": [
    "# *PyQuiver* Notebook\n",
    "This is an IPython Notebook interface for the *PyQuiver* package. The code below will guide you through using *PyQuiver* through a native Python interface. The same steps could be reproduced in the Python interpreter or in a `.py` file."
   ]
  },
  {
   "cell_type": "code",
   "execution_count": 1,
   "metadata": {
    "collapsed": false
   },
   "outputs": [
    {
     "name": "stdout",
     "output_type": "stream",
     "text": [
      "Read atomic weight data for 30 elements.\n"
     ]
    }
   ],
   "source": [
    "# import the necessary package elements\n",
    "import numpy as np\n",
    "from kie import KIE_Calculation"
   ]
  },
  {
   "cell_type": "markdown",
   "metadata": {},
   "source": [
    "## A simple calculation\n",
    "\n",
    "To perform a simple calculation, we can naively reproduce the command-line interface. We simply create a KIE_Calculation object as follows:"
   ]
  },
  {
   "cell_type": "code",
   "execution_count": 2,
   "metadata": {
    "collapsed": false
   },
   "outputs": [
    {
     "name": "stdout",
     "output_type": "stream",
     "text": [
      "\n",
      "Reading configuration from ../test/claisen_demo.config\n",
      "Reading data from ../test/claisen_gs.out... with style g09\n",
      "Reading data from ../test/claisen_ts.out... with style g09\n",
      "Config file: ../test/claisen_demo.config\n",
      "Temperature: 393.0 K\n",
      "Scaling: 0.961\n",
      "Reference Isotopologue: C5\n",
      "Frequency threshold (cm-1): 50\n",
      "   Isotopologue         C5, replacement  1: replace gs atom  5  and ts atom  5  with 13C\n",
      "   Isotopologue         C1, replacement  1: replace gs atom  1  and ts atom  1  with 13C\n",
      "   Isotopologue         C2, replacement  1: replace gs atom  2  and ts atom  2  with 13C\n",
      "   Isotopologue         C4, replacement  1: replace gs atom  4  and ts atom  4  with 13C\n",
      "   Isotopologue         C6, replacement  1: replace gs atom  6  and ts atom  6  with 13C\n",
      "   Isotopologue        H/D, replacement  1: replace gs atom  7  and ts atom  7  with  2D\n",
      "   Isotopologue        H/D, replacement  2: replace gs atom  8  and ts atom  8  with  2D\n",
      "   Isotopologue         O3, replacement  1: replace gs atom  3  and ts atom  3  with 17O\n"
     ]
    }
   ],
   "source": [
    "claisen_calculation = KIE_Calculation(\"../test/claisen_demo.config\", \"../test/claisen_gs.out\", \"../test/claisen_ts.out\", style=\"g09\")"
   ]
  },
  {
   "cell_type": "markdown",
   "metadata": {},
   "source": [
    "### Now the KIEs can be printed in a nice format by simply using the `print` command:"
   ]
  },
  {
   "cell_type": "code",
   "execution_count": 3,
   "metadata": {
    "collapsed": false
   },
   "outputs": [
    {
     "name": "stdout",
     "output_type": "stream",
     "text": [
      "The claisen_calculation object:\n",
      "\n",
      "=== PY-QUIVER ANALYSIS ===\n",
      "Isotopologue                                              uncorrected      Wigner     infinite parabola\n",
      "                                                              KIE           KIE              KIE\n",
      "Isotopologue         C1                                      1.011         1.012            1.013      \n",
      "Isotopologue         C2                                      1.000         1.000            1.000      \n",
      "Isotopologue         C4                                      1.028         1.031            1.031      \n",
      "Isotopologue         C6                                      1.013         1.015            1.015      \n",
      "Isotopologue        H/D                                      0.953         0.954            0.955      \n",
      "Isotopologue         O3                                      1.017         1.018            1.019      \n",
      "KIEs referenced to isotopolouge C5. Absolute KIES are:\n",
      "Isotopologue         C5                                      1.002         1.002            1.002      \n"
     ]
    }
   ],
   "source": [
    "print \"The claisen_calculation object:\"\n",
    "print claisen_calculation"
   ]
  },
  {
   "cell_type": "markdown",
   "metadata": {},
   "source": [
    "### Or we can pull the KIEs directly from the object:\n",
    "Even this simple example highlights the power of working with the Python interface. We have access to the raw `KIE` objects and can readily pull their values from the `KIE` dictionary belonging to our `KIE_Calculation`. This power could help us automate the process of calculating KIEs over a huge number of files. In fact, this functionality has been implemented in the `autoquiver` routine. See the later section."
   ]
  },
  {
   "cell_type": "code",
   "execution_count": 4,
   "metadata": {
    "collapsed": false
   },
   "outputs": [
    {
     "name": "stdout",
     "output_type": "stream",
     "text": [
      "Iterating through the KIEs dictionary:\n",
      "Isotopologue        H/D                                      0.953         0.954            0.955      \n",
      "<class 'kie.KIE'>\n",
      "H/D\n",
      "[ 0.95303023  0.95446588  0.95471993]\n"
     ]
    }
   ],
   "source": [
    "print \"Iterating through the KIEs dictionary:\"\n",
    "for name,kie_object in claisen_calculation.KIES.iteritems():\n",
    "    # prettily print the underlying KIE object:\n",
    "    print kie_object\n",
    "    # or pull the name and value directly:\n",
    "    print type(kie_object)\n",
    "    print kie_object.name\n",
    "    print kie_object.value\n",
    "    break"
   ]
  },
  {
   "cell_type": "markdown",
   "metadata": {},
   "source": [
    "## `System` objects\n",
    "\n",
    "We didn't have to specify file paths as the targets of our `KIE_Calculation` constructor. Instead, we can work directly with `System` objects, which contain the geometry and Hessian as fields. Below, we load the Claisen ground state and transition state and print the position of the first atom in the ground state and print the first row of the transition state Hessian."
   ]
  },
  {
   "cell_type": "code",
   "execution_count": 5,
   "metadata": {
    "collapsed": false
   },
   "outputs": [
    {
     "name": "stdout",
     "output_type": "stream",
     "text": [
      "Reading data from ../test/claisen_gs.out... with style g09\n",
      "Reading data from ../test/claisen_ts.out... with style g09\n",
      "Position of atom 0 in the ground state:\n",
      "[  4.77979210e+00   6.82814755e-01  -3.77945233e-05]\n",
      "First row of the Carteisan transition state Hessian:\n",
      "[  2.57056780e-01  -2.30074910e-01  -1.61921790e-01  -7.65617800e-02\n",
      "   8.48931300e-02   4.61265000e-03   2.12991400e-02   2.02708700e-02\n",
      "  -9.63912000e-03  -2.21225000e-02  -1.95310000e-02   2.29953000e-03\n",
      "  -2.52469200e-02   3.73919800e-02   3.65820000e-04   4.68990400e-02\n",
      "  -4.44531000e-03   2.23839000e-03  -1.51001280e-01   1.20997920e-01\n",
      "   8.62933500e-02  -4.74785300e-02   3.22667000e-03   7.38947400e-02\n",
      "   6.58121000e-03  -8.07384000e-03   5.68738000e-03   2.48980000e-04\n",
      "  -2.96550000e-04   2.02400000e-04   1.22577000e-03   3.97900000e-04\n",
      "   4.27820000e-04   7.73690000e-04   2.65800000e-05   1.32620000e-04\n",
      "  -4.61662000e-03  -1.52566000e-03  -2.75864000e-03  -7.05696000e-03\n",
      "  -3.25778000e-03  -1.83515000e-03]\n"
     ]
    }
   ],
   "source": [
    "from quiver import System\n",
    "\n",
    "gs = System(\"../test/claisen_gs.out\")\n",
    "ts = System(\"../test/claisen_ts.out\")\n",
    "print \"Position of atom 0 in the ground state:\"\n",
    "print gs.positions[0]\n",
    "print \"First row of the Carteisan transition state Hessian:\"\n",
    "print ts.hessian[0]"
   ]
  },
  {
   "cell_type": "markdown",
   "metadata": {},
   "source": [
    "### Running calculations with `System` objects\n",
    "\n",
    "To run a KIE calculation with two `System` objects, we simply pass them into the relevant fields of a `KIE_Calculation` object:"
   ]
  },
  {
   "cell_type": "code",
   "execution_count": 6,
   "metadata": {
    "collapsed": false
   },
   "outputs": [
    {
     "name": "stdout",
     "output_type": "stream",
     "text": [
      "\n",
      "Reading configuration from ../test/claisen_demo.config\n",
      "Config file: ../test/claisen_demo.config\n",
      "Temperature: 393.0 K\n",
      "Scaling: 0.961\n",
      "Reference Isotopologue: C5\n",
      "Frequency threshold (cm-1): 50\n",
      "   Isotopologue         C5, replacement  1: replace gs atom  5  and ts atom  5  with 13C\n",
      "   Isotopologue         C1, replacement  1: replace gs atom  1  and ts atom  1  with 13C\n",
      "   Isotopologue         C2, replacement  1: replace gs atom  2  and ts atom  2  with 13C\n",
      "   Isotopologue         C4, replacement  1: replace gs atom  4  and ts atom  4  with 13C\n",
      "   Isotopologue         C6, replacement  1: replace gs atom  6  and ts atom  6  with 13C\n",
      "   Isotopologue        H/D, replacement  1: replace gs atom  7  and ts atom  7  with  2D\n",
      "   Isotopologue        H/D, replacement  2: replace gs atom  8  and ts atom  8  with  2D\n",
      "   Isotopologue         O3, replacement  1: replace gs atom  3  and ts atom  3  with 17O\n",
      "\n",
      "=== PY-QUIVER ANALYSIS ===\n",
      "Isotopologue                                              uncorrected      Wigner     infinite parabola\n",
      "                                                              KIE           KIE              KIE\n",
      "Isotopologue         C1                                      1.011         1.012            1.013      \n",
      "Isotopologue         C2                                      1.000         1.000            1.000      \n",
      "Isotopologue         C4                                      1.028         1.031            1.031      \n",
      "Isotopologue         C6                                      1.013         1.015            1.015      \n",
      "Isotopologue        H/D                                      0.953         0.954            0.955      \n",
      "Isotopologue         O3                                      1.017         1.018            1.019      \n",
      "KIEs referenced to isotopolouge C5. Absolute KIES are:\n",
      "Isotopologue         C5                                      1.002         1.002            1.002      \n"
     ]
    }
   ],
   "source": [
    "claisen_calculation2 = KIE_Calculation(\"../test/claisen_demo.config\", gs, ts)\n",
    "print claisen_calculation2"
   ]
  },
  {
   "cell_type": "markdown",
   "metadata": {},
   "source": [
    "## Building `Isotopologue`s\n",
    "Once we have access to the underlying `System` objects, it is easy to make substituted `Isotopologue`s and perform frequency calculations ourselves. To make an `Isotopologue` we need to provide a name, a corresponding `System`, and a list of masses - one for each atom in the `System`.\n",
    "\n",
    "Let's build the default light ground state `Isotopologue`:"
   ]
  },
  {
   "cell_type": "code",
   "execution_count": 7,
   "metadata": {
    "collapsed": false
   },
   "outputs": [
    {
     "name": "stdout",
     "output_type": "stream",
     "text": [
      "<quiver.Isotopologue object at 0x7f8e797f43d0>\n"
     ]
    }
   ],
   "source": [
    "from quiver import Isotopologue\n",
    "from constants import DEFAULT_MASSES\n",
    "\n",
    "# we build the default masses by using the DEFAULT_MASSES dictionary which maps from atomic numbers to masses\n",
    "# default masses in DEFAULT_MASSES are the average atomic weight of each element\n",
    "gs_masses = [DEFAULT_MASSES[z] for z in gs.atomic_numbers]\n",
    "\n",
    "gs_light = Isotopologue(\"the light ground state\", gs, gs_masses)\n",
    "print gs_light"
   ]
  },
  {
   "cell_type": "markdown",
   "metadata": {},
   "source": [
    "### `Isotopologue`s with substitutions\n",
    "Now that we know how to make `Isotopologue`s it's very easy to specify isotopic substitutions from default masses. Let's put a Carbon-5000 (a very rare nucleus ...) at atom 4:"
   ]
  },
  {
   "cell_type": "code",
   "execution_count": 8,
   "metadata": {
    "collapsed": false
   },
   "outputs": [],
   "source": [
    "# make a copy of gs_masses\n",
    "sub_masses = list(gs_masses)\n",
    "# index 3 corresponds to atom 4\n",
    "sub_masses[3] = 5000.0\n",
    "\n",
    "gs_heavy = Isotopologue(\"the super heavy ground state\", gs, sub_masses)"
   ]
  },
  {
   "cell_type": "markdown",
   "metadata": {},
   "source": [
    "### Calculating Reduced Isotopic Partition Function Ratio\n",
    "\n",
    "Now that we access to two isotopomers, we can calculate the RPFR directly. To accomplish this we use the function `calculate_rpfr` from the `kie` module. This function takes a tuple of the form `(light, heavy)`, a frequency threshold, a scaling factor, and a temperature. All of these are discussed in detail in the README.\n",
    "\n",
    "`calculate_rpfr` returns four values in a tuple: the first value is an ordered list of factors that product to the RPFR, the second value is a ratio of large imaginary frequencies (if present), the third value is the light frequencies, and the fourth value is the heavy frequencies.\n",
    "\n",
    "If we had wanted, we could have set `quiver.DEBUG = True` to print the individual contributions to the RPFR calculation."
   ]
  },
  {
   "cell_type": "code",
   "execution_count": 9,
   "metadata": {
    "collapsed": false
   },
   "outputs": [
    {
     "name": "stdout",
     "output_type": "stream",
     "text": [
      "11.2081236656\n",
      "None\n"
     ]
    }
   ],
   "source": [
    "from kie import calculate_rpfr\n",
    "gs_rpfr, gs_imag_ratio, gs_light_freqs, gs_heavy_freqs = calculate_rpfr((gs_light, gs_heavy), 50.0, 1.0, 273)\n",
    "print np.prod(gs_rpfr)\n",
    "print gs_imag_ratio"
   ]
  },
  {
   "cell_type": "markdown",
   "metadata": {},
   "source": [
    "## Calculating KIEs from Isotopologues\n",
    "It's nice to be able to calculate RPFRs by hand, but there is also an object available to calculate KIEs automatically: the `KIE` class.\n",
    "\n",
    "We need to create a `KIE` object by passing it a pair of ground states (light and heavy) and a pair of transition states (light and heavy) as well as some temperature information.\n",
    "\n",
    "We will make the desired substitution at Carbon 4 in the transition state and use a `KIE` object to calculate the KIE."
   ]
  },
  {
   "cell_type": "code",
   "execution_count": 10,
   "metadata": {
    "collapsed": false
   },
   "outputs": [],
   "source": [
    "ts_masses = [DEFAULT_MASSES[z] for z in gs.atomic_numbers]\n",
    "ts_light = Isotopologue(\"the light transition state\", ts, ts_masses)\n",
    "ts_sub_masses = list(ts_masses)\n",
    "ts_sub_masses[3] = 5000.0\n",
    "ts_heavy = Isotopologue(\"the heavy transition state\", ts, ts_sub_masses)\n",
    "\n",
    "gs_tuple = (gs_light, gs_heavy)\n",
    "ts_tuple = (ts_light, ts_heavy)\n",
    "\n",
    "from kie import KIE\n",
    "# we make a KIE object using the gs and ts tuples from above for a calculation at 273 degrees K, with a scaling factor of 1.0, and a frequency threshold of 50 cm^-1\n",
    "carbon5000_kie = KIE(\"Carbon 5000 at C4 KIE\", gs_tuple, ts_tuple, 273, 1.0, 50.0)"
   ]
  },
  {
   "cell_type": "markdown",
   "metadata": {},
   "source": [
    "### Displaying KIEs\n",
    "Now, just like before, we have access to a KIE object (earlier we pulled them from the KIES dictionary). These can be printed prettily or you can take the value directly. As expected, we have large normal isotope effects because we used a Carbon-5000 nucleus!"
   ]
  },
  {
   "cell_type": "code",
   "execution_count": 11,
   "metadata": {
    "collapsed": false
   },
   "outputs": [
    {
     "name": "stdout",
     "output_type": "stream",
     "text": [
      "Isotopologue Carbon 5000 at C4 KIE                                      2.132         2.345            2.419      \n",
      "[ 2.13240475  2.34485535  2.41923705]\n"
     ]
    }
   ],
   "source": [
    "print carbon5000_kie\n",
    "print carbon5000_kie.value"
   ]
  },
  {
   "cell_type": "markdown",
   "metadata": {},
   "source": [
    "## *PyQuiver* with multiple files: `autoquiver.py`\n",
    "A common problem when computing KIEs is the need to screen a large number of levels of theory with numerous ground and transition state files. So far, we have only seen how to make a `KIE_Calculation` object that corresponds to a single configuration, ground state, and transition state.\n",
    "\n",
    "The `autoquiver` module implements functionality to perform screening over a large number of files. It's command line use is described in depth in the README. Here we will see how to leverage Python to have more sophisticated uses for `autoquiver`. Suppose we have the following files that we want to use as inputs to `PyQuiver`:\n",
    "```\n",
    "config.config\n",
    "\n",
    "ground_state1.out    ts-1.out\n",
    "gs1rotomer.out       tsrotomer1.out\n",
    "GROUNDSTATE2.out     transition_state2.out\n",
    "gs3.out              ts3.out\n",
    "```\n",
    "We want to run *PyQuiver* on pair of files above in the same row using the configuration file `config.config`. The command line functionality of `autoquiver` is great when the file names have a consistent pattern, but here it's not obvious how to generate the proper pairings or detect which files are ground or transition states.\n",
    "\n",
    "Over the next few cells, we will see how to use Python to solve this problem. First let's see what arguments the `autoquiver` function takes."
   ]
  },
  {
   "cell_type": "code",
   "execution_count": 13,
   "metadata": {
    "collapsed": false
   },
   "outputs": [
    {
     "data": {
      "text/plain": [
       "ArgSpec(args=['filepath', 'config_path', 'gs_p', 'ts_p', 'gs_ts_match_p', 'input_extension', 'style'], varargs=None, keywords=None, defaults=('.snip', 'g09'))"
      ]
     },
     "execution_count": 13,
     "metadata": {},
     "output_type": "execute_result"
    }
   ],
   "source": [
    "import inspect\n",
    "from autoquiver import autoquiver\n",
    "inspect.getargspec(autoquiver)"
   ]
  },
  {
   "cell_type": "markdown",
   "metadata": {},
   "source": [
    "### The arguments\n",
    "The function `autoquiver` (which is the only object available in the `autoquiver` module) requires the above arguments. Some of them are used intuitive and used the same between the command line interface and the Python face. Those are summarized below:\n",
    "* `filepath`: this is the target directory.\n",
    "* `config_path`: the location of the configuration file to use for all *PyQuiver* calculations\n",
    "* `input_extension`: the file extension for ground and transition state files (DEFAULT=.out)\n",
    "* `style`: the style of the ground and transition state files (DEFAULT=g09)\n",
    "But the middle arguments are more exciting! In the README tutorial we discussed the command\n",
    "```\n",
    "python src/autoquiver.py -e .output auto/ auto/substitutions.config gs ts -\n",
    "```\n",
    "The strings \"gs\" and \"ts\" were used to find ground and transition files. A ground state file needed to have \"gs\" as a substring and likewise for \"gs\" and transition state files. The character \"-\" was used as a field delimiter and \"gs\" and \"ts\" matched if all fields after the first were identical.\n",
    "\n",
    "That is some sensible default behaviour, but the underlying interface is much more powerful. In general, we need the following three arguments\n",
    "* `gs_p`: a function that takes a filename and returns a boolean value. `True` if the filename corresponds to a ground state and `False` if it does not.\n",
    "* `ts_p`: a function that takes a filename and returns a boolean value. `True` if the filename corresponds to a transition state and `False` if it does not.\n",
    "* `gs_ts_match_p`: a function that takes a ground state filename and a transition state filename and returns a boolean value. `True` if the ground state and transition state match and `Fase` if they do not.\n",
    "\n",
    "#### `gs_p` and `ts_p`\n",
    "For the previous example, we need to detect that all of the following are ground state files:\n",
    "```\n",
    "ground_state1.out\n",
    "gs1_rotomer.out\n",
    "GROUNDSTATE2.out\n",
    "gs3.out\n",
    "```\n",
    "We can accomplish this with the following Python function:"
   ]
  },
  {
   "cell_type": "code",
   "execution_count": 15,
   "metadata": {
    "collapsed": false
   },
   "outputs": [],
   "source": [
    "def gs_p(filename):\n",
    "    # convert to lowercase\n",
    "    filename = filename.lower()\n",
    "    # remove the _ character\n",
    "    filename = filename.replace(\"_\", \"\")\n",
    "    # replace groundstate with gs\n",
    "    filename = filename.replace(\"groundstate\", \"gs\")\n",
    "    # check if the modified filename begins with the string \"gs\"\n",
    "    if filename[:2] == \"gs\":\n",
    "        return True\n",
    "    else:\n",
    "        return False"
   ]
  },
  {
   "cell_type": "markdown",
   "metadata": {},
   "source": [
    "Let's test this on all the filenames in the example:"
   ]
  },
  {
   "cell_type": "code",
   "execution_count": 17,
   "metadata": {
    "collapsed": false
   },
   "outputs": [
    {
     "name": "stdout",
     "output_type": "stream",
     "text": [
      "Checking ground state matches:\n",
      "True\n",
      "True\n",
      "True\n",
      "True\n",
      "Checking transition state matches:\n",
      "False\n",
      "False\n",
      "False\n",
      "False\n"
     ]
    }
   ],
   "source": [
    "gs_filenames = [\"ground_state1.out\", \"gs1_rotomer.out\", \"GROUNDSTATE2.out\", \"gs3.out\"]\n",
    "ts_filenames = [\"ts-1.out\", \"tsrotomer1.out\", \"transition_state2.out\", \"ts3.out\"]\n",
    "\n",
    "print \"Checking ground state matches:\"\n",
    "for n in gs_filenames:\n",
    "    print gs_p(n)\n",
    "print \"Checking transition state matches:\"\n",
    "for n in ts_filenames:\n",
    "    print gs_p(n)"
   ]
  },
  {
   "cell_type": "markdown",
   "metadata": {},
   "source": [
    "Low and behold - the function successfully separted ground state and transition state files. We can make a similar definition of `ts_p`:"
   ]
  },
  {
   "cell_type": "code",
   "execution_count": 18,
   "metadata": {
    "collapsed": true
   },
   "outputs": [],
   "source": [
    "def ts_p(filename):\n",
    "    # convert to lowercase\n",
    "    filename = filename.lower()\n",
    "    # remove the _ character\n",
    "    filename = filename.replace(\"_\", \"\")\n",
    "    # replace groundstate with gs\n",
    "    filename = filename.replace(\"transitionstate\", \"ts\")\n",
    "    # check if the modified filename begins with the string \"gs\"\n",
    "    if filename[:2] == \"ts\":\n",
    "        return True\n",
    "    else:\n",
    "        return False"
   ]
  },
  {
   "cell_type": "markdown",
   "metadata": {},
   "source": [
    "#### `gs_ts_match_p`\n",
    "Now all we have to do is write a function `gs_ts_match_p` that can take two filenames (one ground state and one transition state) and detect if they are matches. There are numerous ways to accomplish this. We will use a basic regular expression to highlight a common method for writing these functions."
   ]
  },
  {
   "cell_type": "code",
   "execution_count": 25,
   "metadata": {
    "collapsed": false
   },
   "outputs": [
    {
     "name": "stdout",
     "output_type": "stream",
     "text": [
      "Match: ground_state1.out ts-1.out\n",
      "Match: ground_state1.out tsrotomer1.out\n",
      "Match: gs1_rotomer.out ts-1.out\n",
      "Match: gs1_rotomer.out tsrotomer1.out\n",
      "Match: GROUNDSTATE2.out transition_state2.out\n",
      "Match: gs3.out ts3.out\n"
     ]
    }
   ],
   "source": [
    "gs_filenames = [\"ground_state1.out\", \"gs1_rotomer.out\", \"GROUNDSTATE2.out\", \"gs3.out\"]\n",
    "ts_filenames = [\"ts-1.out\", \"tsrotomer1.out\", \"transition_state2.out\", \"ts3.out\"]\n",
    "\n",
    "import re\n",
    "def gs_ts_p(gs_name, ts_name):\n",
    "    # a regular expression that finds and extracts the first integer substring in a filename\n",
    "    gs_match  = re.search(\".*([0-9]+).*\", gs_name)\n",
    "    gs_number = gs_match.group(1)\n",
    "    \n",
    "    ts_match  = re.search(\".*([0-9]+).*\", ts_name)\n",
    "    ts_number = ts_match.group(1)\n",
    "    \n",
    "    if ts_number == gs_number:\n",
    "        return True\n",
    "    else:\n",
    "        return False\n",
    "    \n",
    "import itertools\n",
    "for gs_n, ts_n in itertools.product(gs_filenames, ts_filenames):\n",
    "    if gs_ts_p(gs_n, ts_n):\n",
    "        print \"Match: {0} {1}\".format(gs_n, ts_n)"
   ]
  },
  {
   "cell_type": "code",
   "execution_count": null,
   "metadata": {
    "collapsed": true
   },
   "outputs": [],
   "source": []
  }
 ],
 "metadata": {
  "kernelspec": {
   "display_name": "Python [Root]",
   "language": "python",
   "name": "Python [Root]"
  },
  "language_info": {
   "codemirror_mode": {
    "name": "ipython",
    "version": 2
   },
   "file_extension": ".py",
   "mimetype": "text/x-python",
   "name": "python",
   "nbconvert_exporter": "python",
   "pygments_lexer": "ipython2",
   "version": "2.7.11"
  }
 },
 "nbformat": 4,
 "nbformat_minor": 0
}
