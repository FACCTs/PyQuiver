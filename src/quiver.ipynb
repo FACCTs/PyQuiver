{
 "cells": [
  {
   "cell_type": "markdown",
   "metadata": {},
   "source": [
    "# *PyQuiver* Notebook\n",
    "This is an IPython Notebook interface for the *PyQuiver* package. The code below will guide you through using *PyQuiver* through a native Python interface. The same steps could be reproduced in the Python interpreter or in a `.py` file."
   ]
  },
  {
   "cell_type": "code",
   "execution_count": 1,
   "metadata": {
    "collapsed": false
   },
   "outputs": [
    {
     "name": "stdout",
     "output_type": "stream",
     "text": [
      "Read atomic weight data for 30 elements.\n"
     ]
    }
   ],
   "source": [
    "# import the necessary package elements\n",
    "from kie import KIE_Calculation"
   ]
  },
  {
   "cell_type": "markdown",
   "metadata": {},
   "source": [
    "## A simple calculation\n",
    "\n",
    "To perform a simple calculation, we can naively reproduce the command-line interface. We simply create a KIE_Calculation object as follows:"
   ]
  },
  {
   "cell_type": "code",
   "execution_count": 2,
   "metadata": {
    "collapsed": false
   },
   "outputs": [
    {
     "name": "stdout",
     "output_type": "stream",
     "text": [
      "\n",
      "Reading configuration from ../test/claisen_demo.config\n",
      "Reading data from ../test/claisen_gs.out... with style g09\n",
      "Reading data from ../test/claisen_ts.out... with style g09\n",
      "Config file: ../test/claisen_demo.config\n",
      "Temperature: 393.0 K\n",
      "Scaling: 0.961\n",
      "Reference Isotopologue: C5\n",
      "Frequency threshold (cm-1): 50\n",
      "   Isotopologue         C5, replacement  1: replace gs atom  5  and ts atom  5  with 13C\n",
      "   Isotopologue         C1, replacement  1: replace gs atom  1  and ts atom  1  with 13C\n",
      "   Isotopologue         C2, replacement  1: replace gs atom  2  and ts atom  2  with 13C\n",
      "   Isotopologue         C4, replacement  1: replace gs atom  4  and ts atom  4  with 13C\n",
      "   Isotopologue         C6, replacement  1: replace gs atom  6  and ts atom  6  with 13C\n",
      "   Isotopologue        H/D, replacement  1: replace gs atom  7  and ts atom  7  with  2D\n",
      "   Isotopologue        H/D, replacement  2: replace gs atom  8  and ts atom  8  with  2D\n",
      "   Isotopologue         O3, replacement  1: replace gs atom  3  and ts atom  3  with 17O\n"
     ]
    }
   ],
   "source": [
    "claisen_calculation = KIE_Calculation(\"../test/claisen_demo.config\", \"../test/claisen_gs.out\", \"../test/claisen_ts.out\", style=\"g09\", debug=False)"
   ]
  },
  {
   "cell_type": "markdown",
   "metadata": {},
   "source": [
    "### Now the KIEs can be printed in a nice format by simply using the `print` command:"
   ]
  },
  {
   "cell_type": "code",
   "execution_count": 3,
   "metadata": {
    "collapsed": false
   },
   "outputs": [
    {
     "name": "stdout",
     "output_type": "stream",
     "text": [
      "The claisen_calculation object:\n",
      "\n",
      "=== PY-QUIVER ANALYSIS ===\n",
      "Isotopologue                                              uncorrected      Widmer     infinite parabola\n",
      "                                                              KIE           KIE              KIE\n",
      "Isotopologue         C1                                      1.011         1.012            1.013      \n",
      "Isotopologue         C2                                      1.000         1.000            1.000      \n",
      "Isotopologue         C4                                      1.028         1.031            1.031      \n",
      "Isotopologue         C6                                      1.013         1.015            1.015      \n",
      "Isotopologue        H/D                                      0.953         0.954            0.955      \n",
      "Isotopologue         O3                                      1.017         1.018            1.019      \n",
      "KIEs referenced to isotopolouge C5:\n",
      "Isotopologue         C5                                      1.002         1.002            1.002      \n"
     ]
    }
   ],
   "source": [
    "print \"The claisen_calculation object:\"\n",
    "print claisen_calculation"
   ]
  },
  {
   "cell_type": "markdown",
   "metadata": {},
   "source": [
    "### Or we can pull the KIEs directly from the object:\n",
    "Even this simple example highlights the power of working with the Python interface. We have access to the raw `KIE` objects and can readily pull their values from the `KIE` dictionary belonging to our `KIE_Calculation`. This power could help us automate the process of calculating KIEs over a huge number of files. In fact, this functionality has been implemented in the `autoquiver` routine. See the later section."
   ]
  },
  {
   "cell_type": "code",
   "execution_count": 23,
   "metadata": {
    "collapsed": false
   },
   "outputs": [
    {
     "name": "stdout",
     "output_type": "stream",
     "text": [
      "Iterating through the KIEs dictionary:\n",
      "Isotopologue        H/D                                      0.953         0.954            0.955      \n",
      "<class 'kie.KIE'>\n",
      "H/D\n",
      "[ 0.95303023  0.95446588  0.95471993]\n"
     ]
    }
   ],
   "source": [
    "print \"Iterating through the KIEs dictionary:\"\n",
    "for name,kie_object in claisen_calculation.KIES.iteritems():\n",
    "    # prettily print the underlying KIE object:\n",
    "    print kie_object\n",
    "    # or pull the name and value directly:\n",
    "    print type(kie_object)\n",
    "    print kie_object.name\n",
    "    print kie_object.value\n",
    "    break"
   ]
  },
  {
   "cell_type": "markdown",
   "metadata": {},
   "source": [
    "## `System` objects\n",
    "\n",
    "We didn't have to specify file paths as the targets of our `KIE_Calculation` constructor. Instead, we can work directly with `System` objects, which contain the geometry and Hessian as fields. Below, we load the Claisen ground state and transition state and print the position of the first atom in the ground state and print the first row of the transition state Hessian."
   ]
  },
  {
   "cell_type": "code",
   "execution_count": 24,
   "metadata": {
    "collapsed": false
   },
   "outputs": [
    {
     "name": "stdout",
     "output_type": "stream",
     "text": [
      "Reading data from ../test/claisen_gs.out... with style g09\n",
      "Reading data from ../test/claisen_ts.out... with style g09\n",
      "Position of atom 0 in the ground state:\n",
      "[  4.77979210e+00   6.82814755e-01  -3.77945233e-05]\n",
      "First row of the Carteisan transition state Hessian:\n",
      "[  2.57056780e-01  -2.30074910e-01  -1.61921790e-01  -7.65617800e-02\n",
      "   8.48931300e-02   4.61265000e-03   2.12991400e-02   2.02708700e-02\n",
      "  -9.63912000e-03  -2.21225000e-02  -1.95310000e-02   2.29953000e-03\n",
      "  -2.52469200e-02   3.73919800e-02   3.65820000e-04   4.68990400e-02\n",
      "  -4.44531000e-03   2.23839000e-03  -1.51001280e-01   1.20997920e-01\n",
      "   8.62933500e-02  -4.74785300e-02   3.22667000e-03   7.38947400e-02\n",
      "   6.58121000e-03  -8.07384000e-03   5.68738000e-03   2.48980000e-04\n",
      "  -2.96550000e-04   2.02400000e-04   1.22577000e-03   3.97900000e-04\n",
      "   4.27820000e-04   7.73690000e-04   2.65800000e-05   1.32620000e-04\n",
      "  -4.61662000e-03  -1.52566000e-03  -2.75864000e-03  -7.05696000e-03\n",
      "  -3.25778000e-03  -1.83515000e-03]\n"
     ]
    }
   ],
   "source": [
    "from quiver import System\n",
    "\n",
    "gs = System(\"../test/claisen_gs.out\")\n",
    "ts = System(\"../test/claisen_ts.out\")\n",
    "print \"Position of atom 0 in the ground state:\"\n",
    "print gs.positions[0]\n",
    "print \"First row of the Carteisan transition state Hessian:\"\n",
    "print ts.hessian[0]"
   ]
  },
  {
   "cell_type": "markdown",
   "metadata": {},
   "source": [
    "### Running calculations with `System` objects\n",
    "\n",
    "To run a KIE calculation with two `System` objects, we simply pass them into the relevant fields of a `KIE_Calculation` object:"
   ]
  },
  {
   "cell_type": "code",
   "execution_count": 14,
   "metadata": {
    "collapsed": false
   },
   "outputs": [
    {
     "name": "stdout",
     "output_type": "stream",
     "text": [
      "\n",
      "Reading configuration from ../test/claisen_demo.config\n",
      "Config file: ../test/claisen_demo.config\n",
      "Temperature: 393.0 K\n",
      "Scaling: 0.961\n",
      "Reference Isotopologue: C5\n",
      "Frequency threshold (cm-1): 50\n",
      "   Isotopologue         C5, replacement  1: replace gs atom  5  and ts atom  5  with 13C\n",
      "   Isotopologue         C1, replacement  1: replace gs atom  1  and ts atom  1  with 13C\n",
      "   Isotopologue         C2, replacement  1: replace gs atom  2  and ts atom  2  with 13C\n",
      "   Isotopologue         C4, replacement  1: replace gs atom  4  and ts atom  4  with 13C\n",
      "   Isotopologue         C6, replacement  1: replace gs atom  6  and ts atom  6  with 13C\n",
      "   Isotopologue        H/D, replacement  1: replace gs atom  7  and ts atom  7  with  2D\n",
      "   Isotopologue        H/D, replacement  2: replace gs atom  8  and ts atom  8  with  2D\n",
      "   Isotopologue         O3, replacement  1: replace gs atom  3  and ts atom  3  with 17O\n",
      "\n",
      "=== PY-QUIVER ANALYSIS ===\n",
      "Isotopologue                                              uncorrected      Widmer     infinite parabola\n",
      "                                                              KIE           KIE              KIE\n",
      "Isotopologue         C1                                      1.011         1.012            1.013      \n",
      "Isotopologue         C2                                      1.000         1.000            1.000      \n",
      "Isotopologue         C4                                      1.028         1.031            1.031      \n",
      "Isotopologue         C6                                      1.013         1.015            1.015      \n",
      "Isotopologue        H/D                                      0.953         0.954            0.955      \n",
      "Isotopologue         O3                                      1.017         1.018            1.019      \n",
      "KIEs referenced to isotopolouge C5:\n",
      "Isotopologue         C5                                      1.002         1.002            1.002      \n"
     ]
    }
   ],
   "source": [
    "claisen_calculation2 = KIE_Calculation(\"../test/claisen_demo.config\", gs, ts)\n",
    "print claisen_calculation2"
   ]
  },
  {
   "cell_type": "markdown",
   "metadata": {},
   "source": [
    "## Building `Isotopologue`s\n",
    "Once we have access to the underlying `System` objects, it is easy to make substituted `Isotopologue`s and perform frequency calculations ourselves. To make an `Isotopologue` we need to provide a name, a corresponding `System`, and a list of masses - one for each atom in the `System`.\n",
    "\n",
    "Let's build the default light ground state `Isotopologue`:"
   ]
  },
  {
   "cell_type": "code",
   "execution_count": 25,
   "metadata": {
    "collapsed": false
   },
   "outputs": [
    {
     "name": "stdout",
     "output_type": "stream",
     "text": [
      "<quiver.Isotopologue object at 0x7f44c89330d0>\n"
     ]
    }
   ],
   "source": [
    "from quiver import Isotopologue\n",
    "from constants import DEFAULT_MASSES\n",
    "\n",
    "# we build the default masses by using the DEFAULT_MASSES dictionary which maps from atomic numbers to masses\n",
    "# default masses in DEFAULT_MASSES are the average atomic weight of each element\n",
    "gs_masses = [DEFAULT_MASSES[z] for z in gs.atomic_numbers]\n",
    "\n",
    "light_gs = Isotopologue(\"the light ground state\", gs, gs_masses)\n",
    "print light_gs"
   ]
  },
  {
   "cell_type": "markdown",
   "metadata": {},
   "source": [
    "### `Isotopologue`s with substitutions\n",
    "Now that we know how to make `Isotopologue`s it's very easy to specify isotopic substitutions from default masses. Let's put a Carbon-5000 (a very rare nucleus ...) at atom 4:"
   ]
  },
  {
   "cell_type": "code",
   "execution_count": 19,
   "metadata": {
    "collapsed": true
   },
   "outputs": [],
   "source": [
    "# make a copy of gs_masses\n",
    "sub_masses = list(gs_masses)\n",
    "# index 3 corresponds to atom 4\n",
    "sub_masses[3] = 5000.0\n",
    "\n",
    "heavy_gs = Isotopologue(\"the super heavy ground state\", gs, sub_masses)"
   ]
  },
  {
   "cell_type": "markdown",
   "metadata": {},
   "source": [
    "### Calculating Reduced Isotopic Partition Function Ratio\n",
    "\n",
    "Now that we access to two isotopomers, we can calculate the RPFR directly. To accomplish this we use the class method `calculate_rpfr` of the `KIE_Calculation` class. This method takes a tuple of the form `(light, heavy)`, a frequency threshold, a scaling factor, and a temperature. All of these are discussed in detail in the README."
   ]
  },
  {
   "cell_type": "code",
   "execution_count": 29,
   "metadata": {
    "collapsed": false
   },
   "outputs": [
    {
     "name": "stdout",
     "output_type": "stream",
     "text": [
      "<type 'type'>\n"
     ]
    },
    {
     "ename": "AttributeError",
     "evalue": "type object 'KIE_Calculation' has no attribute 'calculate_rpfr'",
     "output_type": "error",
     "traceback": [
      "\u001b[1;31m---------------------------------------------------------------------------\u001b[0m",
      "\u001b[1;31mAttributeError\u001b[0m                            Traceback (most recent call last)",
      "\u001b[1;32m<ipython-input-29-f8ebb29b9cd3>\u001b[0m in \u001b[0;36m<module>\u001b[1;34m()\u001b[0m\n\u001b[0;32m      1\u001b[0m \u001b[1;32mprint\u001b[0m \u001b[0mtype\u001b[0m\u001b[1;33m(\u001b[0m\u001b[0mKIE_Calculation\u001b[0m\u001b[1;33m)\u001b[0m\u001b[1;33m\u001b[0m\u001b[0m\n\u001b[1;32m----> 2\u001b[1;33m \u001b[0mKIE_Calculation\u001b[0m\u001b[1;33m.\u001b[0m\u001b[0mcalculate_rpfr\u001b[0m\u001b[1;33m(\u001b[0m\u001b[1;33m(\u001b[0m\u001b[0mlight_gs\u001b[0m\u001b[1;33m,\u001b[0m \u001b[0mheavy_gs\u001b[0m\u001b[1;33m)\u001b[0m\u001b[1;33m,\u001b[0m \u001b[1;36m50.0\u001b[0m\u001b[1;33m,\u001b[0m \u001b[1;36m1.0\u001b[0m\u001b[1;33m,\u001b[0m \u001b[1;36m273\u001b[0m\u001b[1;33m)\u001b[0m\u001b[1;33m\u001b[0m\u001b[0m\n\u001b[0m",
      "\u001b[1;31mAttributeError\u001b[0m: type object 'KIE_Calculation' has no attribute 'calculate_rpfr'"
     ]
    }
   ],
   "source": [
    "print type(KIE_Calculation)\n",
    "KIE_Calculation.calculate_rpfr((light_gs, heavy_gs), 50.0, 1.0, 273)"
   ]
  },
  {
   "cell_type": "code",
   "execution_count": null,
   "metadata": {
    "collapsed": true
   },
   "outputs": [],
   "source": []
  }
 ],
 "metadata": {
  "kernelspec": {
   "display_name": "Python [Root]",
   "language": "python",
   "name": "Python [Root]"
  },
  "language_info": {
   "codemirror_mode": {
    "name": "ipython",
    "version": 2
   },
   "file_extension": ".py",
   "mimetype": "text/x-python",
   "name": "python",
   "nbconvert_exporter": "python",
   "pygments_lexer": "ipython2",
   "version": "2.7.11"
  }
 },
 "nbformat": 4,
 "nbformat_minor": 0
}
